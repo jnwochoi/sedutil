{
  "nbformat": 4,
  "nbformat_minor": 0,
  "metadata": {
    "colab": {
      "provenance": [],
      "authorship_tag": "ABX9TyNOX7IUsZXqvlY2SStSzvOn",
      "include_colab_link": true
    },
    "kernelspec": {
      "name": "python3",
      "display_name": "Python 3"
    },
    "language_info": {
      "name": "python"
    }
  },
  "cells": [
    {
      "cell_type": "markdown",
      "metadata": {
        "id": "view-in-github",
        "colab_type": "text"
      },
      "source": [
        "<a href=\"https://colab.research.google.com/github/jnwochoi/sedutil/blob/master/single_layer_perceptron_ipynb%EC%9D%98_%EC%82%AC%EB%B3%B8.ipynb\" target=\"_parent\"><img src=\"https://colab.research.google.com/assets/colab-badge.svg\" alt=\"Open In Colab\"/></a>"
      ]
    },
    {
      "cell_type": "code",
      "execution_count": 3,
      "metadata": {
        "colab": {
          "base_uri": "https://localhost:8080/"
        },
        "id": "fodvBOiduSZU",
        "outputId": "ec837b05-fab5-4bf2-d7ef-923060a2a0c5"
      },
      "outputs": [
        {
          "output_type": "execute_result",
          "data": {
            "text/plain": [
              "tensor([[1, 0, 1],\n",
              "        [0, 1, 1],\n",
              "        [1, 0, 1],\n",
              "        [1, 1, 1],\n",
              "        [1, 0, 1],\n",
              "        [0, 1, 1],\n",
              "        [0, 0, 0],\n",
              "        [0, 1, 0],\n",
              "        [1, 0, 0],\n",
              "        [1, 1, 0],\n",
              "        [1, 0, 1],\n",
              "        [1, 0, 0],\n",
              "        [1, 0, 0],\n",
              "        [0, 0, 0],\n",
              "        [1, 1, 0],\n",
              "        [1, 0, 0],\n",
              "        [1, 1, 1],\n",
              "        [0, 1, 1],\n",
              "        [0, 1, 0],\n",
              "        [1, 1, 0],\n",
              "        [1, 0, 1],\n",
              "        [1, 1, 0],\n",
              "        [0, 0, 0],\n",
              "        [0, 1, 1],\n",
              "        [1, 1, 0],\n",
              "        [0, 0, 0],\n",
              "        [1, 1, 1],\n",
              "        [1, 0, 1],\n",
              "        [0, 1, 0],\n",
              "        [1, 1, 1],\n",
              "        [0, 0, 0],\n",
              "        [0, 0, 0],\n",
              "        [1, 1, 1],\n",
              "        [0, 0, 0],\n",
              "        [0, 0, 0],\n",
              "        [1, 0, 0],\n",
              "        [0, 1, 1],\n",
              "        [1, 1, 0],\n",
              "        [0, 0, 0],\n",
              "        [1, 1, 1],\n",
              "        [1, 0, 1],\n",
              "        [0, 0, 0],\n",
              "        [1, 0, 1],\n",
              "        [0, 0, 0],\n",
              "        [1, 1, 0],\n",
              "        [0, 1, 1],\n",
              "        [0, 1, 1],\n",
              "        [1, 1, 1],\n",
              "        [0, 1, 1],\n",
              "        [0, 0, 0],\n",
              "        [0, 1, 0],\n",
              "        [0, 0, 0],\n",
              "        [1, 0, 1],\n",
              "        [1, 1, 1],\n",
              "        [0, 0, 0],\n",
              "        [0, 1, 1],\n",
              "        [0, 0, 0],\n",
              "        [1, 1, 1],\n",
              "        [0, 1, 0],\n",
              "        [0, 0, 0],\n",
              "        [1, 0, 0],\n",
              "        [1, 1, 1],\n",
              "        [1, 0, 1],\n",
              "        [1, 0, 1],\n",
              "        [1, 0, 1],\n",
              "        [0, 0, 0],\n",
              "        [0, 1, 1],\n",
              "        [0, 1, 0],\n",
              "        [0, 0, 0],\n",
              "        [1, 1, 1],\n",
              "        [1, 1, 1],\n",
              "        [0, 1, 0],\n",
              "        [0, 0, 0],\n",
              "        [1, 0, 1],\n",
              "        [0, 1, 0],\n",
              "        [1, 1, 1],\n",
              "        [1, 1, 1],\n",
              "        [1, 0, 0],\n",
              "        [1, 1, 1],\n",
              "        [1, 0, 0],\n",
              "        [1, 0, 1],\n",
              "        [0, 1, 1],\n",
              "        [0, 0, 0],\n",
              "        [1, 0, 1],\n",
              "        [1, 1, 0],\n",
              "        [0, 1, 1],\n",
              "        [1, 1, 1],\n",
              "        [0, 1, 1],\n",
              "        [0, 0, 0],\n",
              "        [0, 0, 0],\n",
              "        [0, 1, 1],\n",
              "        [0, 0, 0],\n",
              "        [0, 1, 1],\n",
              "        [0, 0, 0],\n",
              "        [1, 0, 1],\n",
              "        [0, 1, 1]])"
            ]
          },
          "metadata": {},
          "execution_count": 3
        }
      ],
      "source": [
        "import torch\n",
        "\n",
        "\n",
        "and_gate = torch.tensor([[0, 0, 0],\n",
        "                         [0, 1, 0],\n",
        "                         [1, 0, 0],\n",
        "                         [1, 1, 1],\n",
        "                         ])\n",
        "\n",
        "or_gate = torch.tensor([[0, 0, 0],\n",
        "                        [0, 1, 1],\n",
        "                        [1, 0, 1],\n",
        "                        [1, 1, 1],\n",
        "                        ])\n",
        "\n",
        "xor_gate = torch.tensor([[0, 0, 0],\n",
        "                        [0, 1, 1],\n",
        "                        [1, 0, 1],\n",
        "                        [1, 1, 0],\n",
        "                        ])\n",
        "\n",
        "# 위 inputs 을 concat.\n",
        "dataset = torch.cat((and_gate, or_gate, xor_gate), 0)\n",
        "# (12 * 10) 개의 dataset 을 생성.\n",
        "len(dataset)\n",
        "\n",
        "SIZE = 3\n",
        "for i in range(SIZE):\n",
        "  dataset = torch.cat((dataset, dataset), 0)\n",
        "# dataset, len(dataset)\n",
        "# seed 를 설정.\n",
        "torch.manual_seed(42)\n",
        "# row-wise shuffling\n",
        "dataset=dataset[torch.randperm(dataset.size()[0])]\n",
        "dataset"
      ]
    },
    {
      "cell_type": "code",
      "source": [
        "len(dataset)"
      ],
      "metadata": {
        "id": "Tjy7MG0j62mw",
        "colab": {
          "base_uri": "https://localhost:8080/"
        },
        "outputId": "14adf9e2-dc8c-4574-c352-006f65d1fa86"
      },
      "execution_count": null,
      "outputs": [
        {
          "output_type": "execute_result",
          "data": {
            "text/plain": [
              "96"
            ]
          },
          "metadata": {},
          "execution_count": 2
        }
      ]
    },
    {
      "cell_type": "code",
      "source": [],
      "metadata": {
        "id": "AkVGOVlt625x"
      },
      "execution_count": null,
      "outputs": []
    }
  ]
}